{
 "cells": [
  {
   "cell_type": "code",
   "execution_count": 1,
   "metadata": {},
   "outputs": [],
   "source": [
    "import pandas as pd\n",
    "import numpy as np"
   ]
  },
  {
   "cell_type": "code",
   "execution_count": 2,
   "metadata": {},
   "outputs": [
    {
     "name": "stderr",
     "output_type": "stream",
     "text": [
      "d:\\Social_media_Projects\\chat_bot\\.venv\\Lib\\site-packages\\tqdm\\auto.py:21: TqdmWarning: IProgress not found. Please update jupyter and ipywidgets. See https://ipywidgets.readthedocs.io/en/stable/user_install.html\n",
      "  from .autonotebook import tqdm as notebook_tqdm\n",
      "Downloading (…)okenizer_config.json: 100%|██████████| 363/363 [00:00<00:00, 364kB/s]\n",
      "d:\\Social_media_Projects\\chat_bot\\.venv\\Lib\\site-packages\\huggingface_hub\\file_download.py:133: UserWarning: `huggingface_hub` cache-system uses symlinks by default to efficiently store duplicated files but your machine does not support them in C:\\Users\\50510\\.cache\\huggingface\\hub. Caching files will still work but in a degraded version that might require more space on your disk. This warning can be disabled by setting the `HF_HUB_DISABLE_SYMLINKS_WARNING` environment variable. For more details, see https://huggingface.co/docs/huggingface_hub/how-to-cache#limitations.\n",
      "To support symlinks on Windows, you either need to activate Developer Mode or to run Python as an administrator. In order to see activate developer mode, see this article: https://docs.microsoft.com/en-us/windows/apps/get-started/enable-your-device-for-development\n",
      "  warnings.warn(message)\n",
      "Downloading (…)solve/main/vocab.txt: 100%|██████████| 232k/232k [00:00<00:00, 640kB/s]\n",
      "Downloading (…)/main/tokenizer.json: 100%|██████████| 466k/466k [00:00<00:00, 2.12MB/s]\n",
      "Downloading (…)cial_tokens_map.json: 100%|██████████| 239/239 [00:00<?, ?B/s] \n"
     ]
    }
   ],
   "source": [
    "from transformers import AutoTokenizer, AutoModel\n",
    "\n",
    "#Load the Tokenizer and model\n",
    "model_name = \"sentence-transformers/all-mpnet-base-v2\"\n",
    "tokenizer = AutoTokenizer.from_pretrained(model_name)"
   ]
  },
  {
   "cell_type": "code",
   "execution_count": 3,
   "metadata": {},
   "outputs": [],
   "source": [
    "from sentence_transformers import SentenceTransformer, util\n",
    "\n",
    "# Load the SBERT model\n",
    "model_name = \"sentence-transformers/all-mpnet-base-v2\"\n",
    "model = SentenceTransformer(model_name)"
   ]
  },
  {
   "cell_type": "code",
   "execution_count": 4,
   "metadata": {},
   "outputs": [],
   "source": [
    "# Define the prompts and responses\n",
    "prompts = [\n",
    "    \"What is your name?\",\n",
    "    \"How can I help you today?\",\n",
    "    \"Tell me a joke.\",\n",
    "    \"What is the capital of France?\",\n",
    "    # Add more prompts as needed\n",
    "]\n",
    "\n",
    "responses = [\n",
    "    \"My name is ChatGPT.\",\n",
    "    \"I'm here to assist you. How can I help?\",\n",
    "    \"Why don't scientists trust atoms? Because they make up everything!\",\n",
    "    \"The capital of France is Paris.\",\n",
    "    # Add more responses corresponding to the prompts\n",
    "]"
   ]
  },
  {
   "cell_type": "code",
   "execution_count": 5,
   "metadata": {},
   "outputs": [
    {
     "name": "stdout",
     "output_type": "stream",
     "text": [
      "Chatbot: My name is ChatGPT.\n",
      "Chatbot: Goodbye!\n"
     ]
    }
   ],
   "source": [
    "def get_most_similar_prompt(user_input, prompts):\n",
    "    # Encode the user input and prompts using SBERT\n",
    "    user_input_embedding = model.encode(user_input)\n",
    "    prompt_embeddings = model.encode(prompts)\n",
    "\n",
    "    # Calculate cosine similarities between user input and prompts\n",
    "    similarities = util.pytorch_cos_sim(user_input_embedding, prompt_embeddings)\n",
    "\n",
    "    # Find the index of the most similar prompt\n",
    "    most_similar_index = similarities.argmax().item()\n",
    "\n",
    "    return most_similar_index\n",
    "\n",
    "def chatbot_response(user_input):\n",
    "    # Get the index of the most similar prompt\n",
    "    most_similar_index = get_most_similar_prompt(user_input, prompts)\n",
    "\n",
    "    # Return the corresponding response\n",
    "    response = responses[most_similar_index]\n",
    "    return response\n",
    "\n",
    "# Test the chatbot\n",
    "while True:\n",
    "    user_input = input(\"You: \")\n",
    "    if user_input.lower() == \"exit\":\n",
    "        print(\"Chatbot: Goodbye!\")\n",
    "        break\n",
    "\n",
    "    response = chatbot_response(user_input)\n",
    "    print(\"Chatbot:\", response)\n"
   ]
  }
 ],
 "metadata": {
  "kernelspec": {
   "display_name": ".venv",
   "language": "python",
   "name": "python3"
  },
  "language_info": {
   "codemirror_mode": {
    "name": "ipython",
    "version": 3
   },
   "file_extension": ".py",
   "mimetype": "text/x-python",
   "name": "python",
   "nbconvert_exporter": "python",
   "pygments_lexer": "ipython3",
   "version": "3.11.2"
  },
  "orig_nbformat": 4
 },
 "nbformat": 4,
 "nbformat_minor": 2
}
